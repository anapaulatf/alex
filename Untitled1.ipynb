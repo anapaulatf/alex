{
 "cells": [
  {
   "cell_type": "code",
   "execution_count": 1,
   "id": "embedded-express",
   "metadata": {},
   "outputs": [
    {
     "ename": "ModuleNotFoundError",
     "evalue": "No module named 'pmdarima'",
     "output_type": "error",
     "traceback": [
      "\u001b[1;31m---------------------------------------------------------------------------\u001b[0m",
      "\u001b[1;31mModuleNotFoundError\u001b[0m                       Traceback (most recent call last)",
      "\u001b[1;32m<ipython-input-1-f45a13f12895>\u001b[0m in \u001b[0;36m<module>\u001b[1;34m\u001b[0m\n\u001b[0;32m      1\u001b[0m \u001b[1;32mimport\u001b[0m \u001b[0mnumpy\u001b[0m \u001b[1;32mas\u001b[0m \u001b[0mnp\u001b[0m\u001b[1;33m\u001b[0m\u001b[1;33m\u001b[0m\u001b[0m\n\u001b[1;32m----> 2\u001b[1;33m \u001b[1;32mimport\u001b[0m \u001b[0mpmdarima\u001b[0m \u001b[1;32mas\u001b[0m \u001b[0mpm\u001b[0m\u001b[1;33m\u001b[0m\u001b[1;33m\u001b[0m\u001b[0m\n\u001b[0m\u001b[0;32m      3\u001b[0m \u001b[1;32mimport\u001b[0m \u001b[0mquandl\u001b[0m\u001b[1;33m\u001b[0m\u001b[1;33m\u001b[0m\u001b[0m\n\u001b[0;32m      4\u001b[0m \u001b[1;32mimport\u001b[0m \u001b[0mpandas\u001b[0m \u001b[1;32mas\u001b[0m \u001b[0mpd\u001b[0m\u001b[1;33m\u001b[0m\u001b[1;33m\u001b[0m\u001b[0m\n\u001b[0;32m      5\u001b[0m \u001b[1;32mimport\u001b[0m \u001b[0mmatplotlib\u001b[0m\u001b[1;33m.\u001b[0m\u001b[0mpyplot\u001b[0m \u001b[1;32mas\u001b[0m \u001b[0mplt\u001b[0m\u001b[1;33m\u001b[0m\u001b[1;33m\u001b[0m\u001b[0m\n",
      "\u001b[1;31mModuleNotFoundError\u001b[0m: No module named 'pmdarima'"
     ]
    }
   ],
   "source": [
    "import numpy as np\n",
    "import pmdarima as pm\n",
    "import quandl\n",
    "import pandas as pd\n",
    "import matplotlib.pyplot as plt\n",
    "mydata = quandl.get(\"FRED/CPIAUCNS\", returns=\"numpy\",authtoken=\"b2P8ovo7y75geHc7vMq_\",  start_date=\"2012-02-01\", transform=\"rdiff\")\n",
    "\n",
    "index = pd.date_range(\"2012-03-31\", \"2021-06-30\", freq=\"M\")\n",
    "df = pd.DataFrame(mydata, index=index)\n",
    "df.drop(\"Date\", inplace=True, axis=1)\n",
    "index = pd.date_range(\"2021-07-30\", \"2021-06-30\", freq=\"M\")\n",
    "\n",
    "arima = pm.auto_arima(df)\n",
    "forecast, conf_int =arima.predict(n_periods=6,return_conf_int=True)\n",
    "\n",
    "index2 = pd.date_range(\"2021-07-30\", \"2021-12-31\", freq=\"M\")\n",
    "df2 = pd.DataFrame({\"Forecast\":forecast}, index=index2)\n",
    "df3=df.append(df2)\n",
    "\n",
    "#annual accumulado\n",
    "train=(1+df).rolling(window=12).apply(np.prod, raw=True) - 1\n",
    "x1=df.tail(n=11)\n",
    "x2=np.append(x1,df2.tail(n=7))\n",
    "index3 = pd.date_range(\"2020-08-31\", \"2021-12-31\", freq=\"M\")\n",
    "df4 = pd.DataFrame({\"Forecast\":x2}, index=index3)\n",
    "x4=(1+df4).rolling(window=12).apply(np.prod, raw=True) - 1\n",
    "dataset=train.append(x4)\n",
    "\n",
    "\n",
    "\n",
    "with plt.style.context('seaborn-colorblind'):\n",
    " fig, ax1 = plt.subplots()\n",
    " x_axis = np.arange(df.shape[0] + forecast.shape[0])\n",
    " ax1.plot(dataset[\"Forecast\"],   label=\"Prévisions - Modèle ARIMA\")\n",
    " ax1.plot(dataset[\"Value\"],   label=\"CPI - US\")\n",
    " plt.title(\"Graphique 2. Indice des prix au consommateur - U.S (%)\", fontsize=9,fontweight = 'bold')\n",
    " plt.ylabel(\"(%)\", fontsize=9,fontweight = 'bold')\n",
    " plt.xlabel(\"Années\",fontsize=8,fontweight = 'bold')\n",
    " fig.tight_layout()\n",
    " plt.legend(bbox_to_anchor=(0.30, 1), loc='upper left')\n",
    "\n",
    "plt.show() \n"
   ]
  },
  {
   "cell_type": "code",
   "execution_count": null,
   "id": "russian-roots",
   "metadata": {},
   "outputs": [],
   "source": []
  }
 ],
 "metadata": {
  "kernelspec": {
   "display_name": "Python 3",
   "language": "python",
   "name": "python3"
  },
  "language_info": {
   "codemirror_mode": {
    "name": "ipython",
    "version": 3
   },
   "file_extension": ".py",
   "mimetype": "text/x-python",
   "name": "python",
   "nbconvert_exporter": "python",
   "pygments_lexer": "ipython3",
   "version": "3.9.1"
  }
 },
 "nbformat": 4,
 "nbformat_minor": 5
}
